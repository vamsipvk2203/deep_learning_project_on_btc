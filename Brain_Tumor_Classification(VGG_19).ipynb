{
  "nbformat": 4,
  "nbformat_minor": 0,
  "metadata": {
    "colab": {
      "name": "DL Project Souece Code(VGG - 19).ipynb",
      "provenance": [],
      "collapsed_sections": []
    },
    "kernelspec": {
      "name": "python3",
      "display_name": "Python 3"
    }
  },
  "cells": [
    {
      "cell_type": "code",
      "metadata": {
        "id": "3qptJxfWnG_t",
        "colab_type": "code",
        "outputId": "44af5ee1-c513-4851-c6c9-3bc9df92b0d5",
        "colab": {
          "base_uri": "https://localhost:8080/",
          "height": 125
        }
      },
      "source": [
        "#Mounting The Google drive\n",
        "from google.colab import drive\n",
        "drive.mount(\"/content/gdrive\")"
      ],
      "execution_count": 0,
      "outputs": [
        {
          "output_type": "stream",
          "text": [
            "Go to this URL in a browser: https://accounts.google.com/o/oauth2/auth?client_id=947318989803-6bn6qk8qdgf4n4g3pfee6491hc0brc4i.apps.googleusercontent.com&redirect_uri=urn%3aietf%3awg%3aoauth%3a2.0%3aoob&response_type=code&scope=email%20https%3a%2f%2fwww.googleapis.com%2fauth%2fdocs.test%20https%3a%2f%2fwww.googleapis.com%2fauth%2fdrive%20https%3a%2f%2fwww.googleapis.com%2fauth%2fdrive.photos.readonly%20https%3a%2f%2fwww.googleapis.com%2fauth%2fpeopleapi.readonly\n",
            "\n",
            "Enter your authorization code:\n",
            "··········\n",
            "Mounted at /content/gdrive\n"
          ],
          "name": "stdout"
        }
      ]
    },
    {
      "cell_type": "code",
      "metadata": {
        "id": "2Eljb99RnIX2",
        "colab_type": "code",
        "colab": {}
      },
      "source": [
        "!ls"
      ],
      "execution_count": 0,
      "outputs": []
    },
    {
      "cell_type": "code",
      "metadata": {
        "id": "BFX1pzECnZnS",
        "colab_type": "code",
        "outputId": "045ee17e-e215-48c7-f51e-3d371d5d204b",
        "colab": {
          "base_uri": "https://localhost:8080/",
          "height": 34
        }
      },
      "source": [
        "cd gdrive/My\\ Drive"
      ],
      "execution_count": 0,
      "outputs": [
        {
          "output_type": "stream",
          "text": [
            "/content/gdrive/My Drive\n"
          ],
          "name": "stdout"
        }
      ]
    },
    {
      "cell_type": "code",
      "metadata": {
        "id": "Ies4blIDnc8_",
        "colab_type": "code",
        "outputId": "4ef91647-e903-44f0-ce23-413169b2d4c8",
        "colab": {
          "base_uri": "https://localhost:8080/",
          "height": 34
        }
      },
      "source": [
        "import numpy as np \n",
        "import cv2\n",
        "import os\n",
        "import shutil\n",
        "\n",
        "#for plotting the metrics \n",
        "import matplotlib.pyplot as plt\n",
        "\n",
        "# For real time data augmentation\n",
        "from keras.preprocessing.image import ImageDataGenerator\n",
        "\n",
        "#For developing the deep learning model\n",
        "from keras.applications.vgg19 import VGG19, preprocess_input\n",
        "from keras import layers\n",
        "from keras.models import Model, Sequential\n",
        "from keras.optimizers import Adam, RMSprop\n"
      ],
      "execution_count": 0,
      "outputs": [
        {
          "output_type": "stream",
          "text": [
            "Using TensorFlow backend.\n"
          ],
          "name": "stderr"
        }
      ]
    },
    {
      "cell_type": "code",
      "metadata": {
        "id": "RtAp5_DFnipd",
        "colab_type": "code",
        "colab": {}
      },
      "source": [
        "#make dirctories in which the images should be divided\n",
        "!mkdir TRAIN TEST VAL TRAIN/yes TRAIN/no TEST/yes TEST/no VAL/yes VAL/no"
      ],
      "execution_count": 0,
      "outputs": []
    },
    {
      "cell_type": "code",
      "metadata": {
        "id": "OX0Jo_77nlw6",
        "colab_type": "code",
        "colab": {}
      },
      "source": [
        "from os import listdir\n",
        "img_path ='brain_tumor_dataset/'\n",
        "# split the data by train/val/test\n",
        "for File in listdir(img_path):\n",
        "    \n",
        "        img_num = len(listdir(img_path + File))\n",
        "        for (n, File_name) in enumerate(listdir(img_path + File)):\n",
        "            img = img_path + File + '/' + File_name\n",
        "            if n < 8:\n",
        "                shutil.copy(img, 'TEST/' + File + '/' + File_name)\n",
        "            elif n < 0.8*img_num:\n",
        "                shutil.copy(img, 'TRAIN/'+ File + '/' + File_name)\n",
        "            else:\n",
        "                shutil.copy(img, 'VAL/'+ File + '/' + File_name)"
      ],
      "execution_count": 0,
      "outputs": []
    },
    {
      "cell_type": "code",
      "metadata": {
        "id": "8g756FzfnpL8",
        "colab_type": "code",
        "outputId": "d9ab1a4f-3fba-410d-c4de-4e4f640de361",
        "colab": {
          "base_uri": "https://localhost:8080/",
          "height": 87
        }
      },
      "source": [
        "# for dealing with '.h5' models\n",
        "!pip install --user cython h5py"
      ],
      "execution_count": 0,
      "outputs": [
        {
          "output_type": "stream",
          "text": [
            "Requirement already satisfied: cython in /usr/local/lib/python3.6/dist-packages (0.29.16)\n",
            "Requirement already satisfied: h5py in /usr/local/lib/python3.6/dist-packages (2.10.0)\n",
            "Requirement already satisfied: numpy>=1.7 in /usr/local/lib/python3.6/dist-packages (from h5py) (1.18.2)\n",
            "Requirement already satisfied: six in /usr/local/lib/python3.6/dist-packages (from h5py) (1.12.0)\n"
          ],
          "name": "stdout"
        }
      ]
    },
    {
      "cell_type": "code",
      "metadata": {
        "id": "aL5B3R9IoCUW",
        "colab_type": "code",
        "outputId": "ebae9b53-ac1f-4e06-cbc7-025652d6d8c5",
        "colab": {
          "base_uri": "https://localhost:8080/",
          "height": 303
        }
      },
      "source": [
        "!pip install --user git+https://github.com/Theano/Theano.git"
      ],
      "execution_count": 0,
      "outputs": [
        {
          "output_type": "stream",
          "text": [
            "Collecting git+https://github.com/Theano/Theano.git\n",
            "  Cloning https://github.com/Theano/Theano.git to /tmp/pip-req-build-z1p7m0p_\n",
            "  Running command git clone -q https://github.com/Theano/Theano.git /tmp/pip-req-build-z1p7m0p_\n",
            "Requirement already satisfied: numpy>=1.9.1 in /usr/local/lib/python3.6/dist-packages (from Theano==1.0.4+51.gf1e4ec47c) (1.18.2)\n",
            "Requirement already satisfied: scipy>=0.14 in /usr/local/lib/python3.6/dist-packages (from Theano==1.0.4+51.gf1e4ec47c) (1.4.1)\n",
            "Requirement already satisfied: six>=1.9.0 in /usr/local/lib/python3.6/dist-packages (from Theano==1.0.4+51.gf1e4ec47c) (1.12.0)\n",
            "Building wheels for collected packages: Theano\n",
            "  Building wheel for Theano (setup.py) ... \u001b[?25l\u001b[?25hdone\n",
            "  Created wheel for Theano: filename=Theano-1.0.4+51.gf1e4ec47c-cp36-none-any.whl size=2667983 sha256=38a01e515571a97c3dd59507e467155337a048f07a48064c346903b4fc2d53e0\n",
            "  Stored in directory: /tmp/pip-ephem-wheel-cache-cxo61bfd/wheels/14/72/17/35fc1366380e8e05fc8ed5d44e24a2da28ef975aa4be6aaa17\n",
            "Successfully built Theano\n",
            "Installing collected packages: Theano\n",
            "\u001b[33m  WARNING: The scripts theano-cache and theano-nose are installed in '/root/.local/bin' which is not on PATH.\n",
            "  Consider adding this directory to PATH or, if you prefer to suppress this warning, use --no-warn-script-location.\u001b[0m\n",
            "Successfully installed Theano-1.0.4+51.gf1e4ec47c\n"
          ],
          "name": "stdout"
        }
      ]
    },
    {
      "cell_type": "code",
      "metadata": {
        "id": "qLgaCIBBoFjO",
        "colab_type": "code",
        "outputId": "fa82a915-2c98-4a01-b60e-1af50678d186",
        "colab": {
          "base_uri": "https://localhost:8080/",
          "height": 321
        }
      },
      "source": [
        "\n",
        "!pip install --user git+https://github.com/fchollet/keras.git"
      ],
      "execution_count": 0,
      "outputs": [
        {
          "output_type": "stream",
          "text": [
            "Collecting git+https://github.com/fchollet/keras.git\n",
            "  Cloning https://github.com/fchollet/keras.git to /tmp/pip-req-build-1zada3oo\n",
            "  Running command git clone -q https://github.com/fchollet/keras.git /tmp/pip-req-build-1zada3oo\n",
            "Requirement already satisfied (use --upgrade to upgrade): Keras==2.3.1 from git+https://github.com/fchollet/keras.git in /usr/local/lib/python3.6/dist-packages\n",
            "Requirement already satisfied: numpy>=1.9.1 in /usr/local/lib/python3.6/dist-packages (from Keras==2.3.1) (1.18.2)\n",
            "Requirement already satisfied: scipy>=0.14 in /usr/local/lib/python3.6/dist-packages (from Keras==2.3.1) (1.4.1)\n",
            "Requirement already satisfied: six>=1.9.0 in /usr/local/lib/python3.6/dist-packages (from Keras==2.3.1) (1.12.0)\n",
            "Requirement already satisfied: pyyaml in /usr/local/lib/python3.6/dist-packages (from Keras==2.3.1) (3.13)\n",
            "Requirement already satisfied: h5py in /usr/local/lib/python3.6/dist-packages (from Keras==2.3.1) (2.10.0)\n",
            "Requirement already satisfied: keras_applications>=1.0.6 in /usr/local/lib/python3.6/dist-packages (from Keras==2.3.1) (1.0.8)\n",
            "Requirement already satisfied: keras_preprocessing>=1.0.5 in /usr/local/lib/python3.6/dist-packages (from Keras==2.3.1) (1.1.0)\n",
            "Building wheels for collected packages: Keras\n",
            "  Building wheel for Keras (setup.py) ... \u001b[?25l\u001b[?25hdone\n",
            "  Created wheel for Keras: filename=Keras-2.3.1-cp36-none-any.whl size=365124 sha256=3b69f2bcc7c66a082734e5425d5849e53216a386ed4faa49212e45e133ebbaba\n",
            "  Stored in directory: /tmp/pip-ephem-wheel-cache-hilc67ze/wheels/9b/28/23/374425566fc615b7eeb7d748899ed3ce8d72851e4b5d22cc83\n",
            "Successfully built Keras\n"
          ],
          "name": "stdout"
        }
      ]
    },
    {
      "cell_type": "code",
      "metadata": {
        "id": "43SgxOsp-WIp",
        "colab_type": "code",
        "colab": {}
      },
      "source": [
        ""
      ],
      "execution_count": 0,
      "outputs": []
    },
    {
      "cell_type": "markdown",
      "metadata": {
        "id": "8QvIeLKz-XC0",
        "colab_type": "text"
      },
      "source": [
        "*VGG_19*"
      ]
    },
    {
      "cell_type": "code",
      "metadata": {
        "id": "W-Xe9KduoLPJ",
        "colab_type": "code",
        "colab": {}
      },
      "source": [
        "# input size for a vgg19 model\n",
        "IMG_SIZE=[224,224]"
      ],
      "execution_count": 0,
      "outputs": []
    },
    {
      "cell_type": "code",
      "metadata": {
        "id": "g6YyPzWxoQSU",
        "colab_type": "code",
        "outputId": "c3f8f1e1-5291-4f75-e507-46e5075c405e",
        "colab": {
          "base_uri": "https://localhost:8080/",
          "height": 72
        }
      },
      "source": [
        "\n",
        "vgg_19_model = VGG19(input_shape= IMG_SIZE+[3],weights='imagenet',include_top=False)"
      ],
      "execution_count": 0,
      "outputs": [
        {
          "output_type": "stream",
          "text": [
            "Downloading data from https://github.com/fchollet/deep-learning-models/releases/download/v0.1/vgg19_weights_tf_dim_ordering_tf_kernels_notop.h5\n",
            "80142336/80134624 [==============================] - 1s 0us/step\n"
          ],
          "name": "stdout"
        }
      ]
    },
    {
      "cell_type": "code",
      "metadata": {
        "id": "KQbFIntroS02",
        "colab_type": "code",
        "outputId": "4b4f4ee5-aea1-4a02-a5a6-f4d33dee9863",
        "colab": {
          "base_uri": "https://localhost:8080/",
          "height": 34
        }
      },
      "source": [
        "from keras.layers import GlobalMaxPooling2D\n",
        "x = vgg_19_model.output\n",
        "x"
      ],
      "execution_count": 0,
      "outputs": [
        {
          "output_type": "execute_result",
          "data": {
            "text/plain": [
              "<tf.Tensor 'block5_pool/MaxPool:0' shape=(None, 7, 7, 512) dtype=float32>"
            ]
          },
          "metadata": {
            "tags": []
          },
          "execution_count": 13
        }
      ]
    },
    {
      "cell_type": "code",
      "metadata": {
        "id": "TJ8SGlh7oVi4",
        "colab_type": "code",
        "colab": {}
      },
      "source": [
        "x = GlobalMaxPooling2D()(x)"
      ],
      "execution_count": 0,
      "outputs": []
    },
    {
      "cell_type": "code",
      "metadata": {
        "id": "7Gip5H5doYyT",
        "colab_type": "code",
        "colab": {}
      },
      "source": [
        "from keras.layers import Dense\n",
        "x = Dense(512,activation = 'relu')(x)\n",
        "x = Dense(512,activation = 'relu')(x)\n",
        "x = Dense(256, activation = 'relu')(x)"
      ],
      "execution_count": 0,
      "outputs": []
    },
    {
      "cell_type": "code",
      "metadata": {
        "id": "eTrA_oEboazZ",
        "colab_type": "code",
        "colab": {}
      },
      "source": [
        "predictions = Dense(2,activation='softmax')(x)"
      ],
      "execution_count": 0,
      "outputs": []
    },
    {
      "cell_type": "code",
      "metadata": {
        "id": "1O1SIvLHod9z",
        "colab_type": "code",
        "outputId": "b0cd1d8a-835a-4265-a7e4-9c36b525b21d",
        "colab": {
          "base_uri": "https://localhost:8080/",
          "height": 1000
        }
      },
      "source": [
        "Vgg_19 = Model(inputs = vgg_19_model.input, outputs = predictions)\n",
        "Vgg_19.summary()"
      ],
      "execution_count": 0,
      "outputs": [
        {
          "output_type": "stream",
          "text": [
            "Model: \"model_1\"\n",
            "_________________________________________________________________\n",
            "Layer (type)                 Output Shape              Param #   \n",
            "=================================================================\n",
            "input_1 (InputLayer)         (None, 224, 224, 3)       0         \n",
            "_________________________________________________________________\n",
            "block1_conv1 (Conv2D)        (None, 224, 224, 64)      1792      \n",
            "_________________________________________________________________\n",
            "block1_conv2 (Conv2D)        (None, 224, 224, 64)      36928     \n",
            "_________________________________________________________________\n",
            "block1_pool (MaxPooling2D)   (None, 112, 112, 64)      0         \n",
            "_________________________________________________________________\n",
            "block2_conv1 (Conv2D)        (None, 112, 112, 128)     73856     \n",
            "_________________________________________________________________\n",
            "block2_conv2 (Conv2D)        (None, 112, 112, 128)     147584    \n",
            "_________________________________________________________________\n",
            "block2_pool (MaxPooling2D)   (None, 56, 56, 128)       0         \n",
            "_________________________________________________________________\n",
            "block3_conv1 (Conv2D)        (None, 56, 56, 256)       295168    \n",
            "_________________________________________________________________\n",
            "block3_conv2 (Conv2D)        (None, 56, 56, 256)       590080    \n",
            "_________________________________________________________________\n",
            "block3_conv3 (Conv2D)        (None, 56, 56, 256)       590080    \n",
            "_________________________________________________________________\n",
            "block3_conv4 (Conv2D)        (None, 56, 56, 256)       590080    \n",
            "_________________________________________________________________\n",
            "block3_pool (MaxPooling2D)   (None, 28, 28, 256)       0         \n",
            "_________________________________________________________________\n",
            "block4_conv1 (Conv2D)        (None, 28, 28, 512)       1180160   \n",
            "_________________________________________________________________\n",
            "block4_conv2 (Conv2D)        (None, 28, 28, 512)       2359808   \n",
            "_________________________________________________________________\n",
            "block4_conv3 (Conv2D)        (None, 28, 28, 512)       2359808   \n",
            "_________________________________________________________________\n",
            "block4_conv4 (Conv2D)        (None, 28, 28, 512)       2359808   \n",
            "_________________________________________________________________\n",
            "block4_pool (MaxPooling2D)   (None, 14, 14, 512)       0         \n",
            "_________________________________________________________________\n",
            "block5_conv1 (Conv2D)        (None, 14, 14, 512)       2359808   \n",
            "_________________________________________________________________\n",
            "block5_conv2 (Conv2D)        (None, 14, 14, 512)       2359808   \n",
            "_________________________________________________________________\n",
            "block5_conv3 (Conv2D)        (None, 14, 14, 512)       2359808   \n",
            "_________________________________________________________________\n",
            "block5_conv4 (Conv2D)        (None, 14, 14, 512)       2359808   \n",
            "_________________________________________________________________\n",
            "block5_pool (MaxPooling2D)   (None, 7, 7, 512)         0         \n",
            "_________________________________________________________________\n",
            "global_max_pooling2d_1 (Glob (None, 512)               0         \n",
            "_________________________________________________________________\n",
            "dense_1 (Dense)              (None, 512)               262656    \n",
            "_________________________________________________________________\n",
            "dense_2 (Dense)              (None, 512)               262656    \n",
            "_________________________________________________________________\n",
            "dense_3 (Dense)              (None, 256)               131328    \n",
            "_________________________________________________________________\n",
            "dense_4 (Dense)              (None, 2)                 514       \n",
            "=================================================================\n",
            "Total params: 20,681,538\n",
            "Trainable params: 20,681,538\n",
            "Non-trainable params: 0\n",
            "_________________________________________________________________\n"
          ],
          "name": "stdout"
        }
      ]
    },
    {
      "cell_type": "code",
      "metadata": {
        "id": "s9nC4-WTogn7",
        "colab_type": "code",
        "colab": {}
      },
      "source": [
        "for layer in vgg_19_model.layers:\n",
        "   layer.trainable = False"
      ],
      "execution_count": 0,
      "outputs": []
    },
    {
      "cell_type": "code",
      "metadata": {
        "id": "iMWv2Pt7okdE",
        "colab_type": "code",
        "colab": {}
      },
      "source": [
        "train_datagen = ImageDataGenerator(preprocessing_function=preprocess_input)\n",
        "val_datagen = ImageDataGenerator(preprocessing_function=preprocess_input)\n",
        "test_datagen = ImageDataGenerator(preprocessing_function=preprocess_input)"
      ],
      "execution_count": 0,
      "outputs": []
    },
    {
      "cell_type": "code",
      "metadata": {
        "id": "Zxt_Zzkoooc1",
        "colab_type": "code",
        "outputId": "1dcb7039-2f1e-426d-a26c-6a85808ee43f",
        "colab": {
          "base_uri": "https://localhost:8080/",
          "height": 34
        }
      },
      "source": [
        "train_generator = train_datagen.flow_from_directory('TRAIN', target_size=(224,224), color_mode='rgb', batch_size=32, class_mode='categorical',shuffle = False)\n"
      ],
      "execution_count": 0,
      "outputs": [
        {
          "output_type": "stream",
          "text": [
            "Found 187 images belonging to 2 classes.\n"
          ],
          "name": "stdout"
        }
      ]
    },
    {
      "cell_type": "code",
      "metadata": {
        "id": "P7qb4UnworPD",
        "colab_type": "code",
        "outputId": "642df09e-8b0d-401c-f693-ac59feef0cdf",
        "colab": {
          "base_uri": "https://localhost:8080/",
          "height": 34
        }
      },
      "source": [
        "val_generator = val_datagen.flow_from_directory('VAL', target_size=(224,224), color_mode='rgb', batch_size=10, class_mode='categorical',shuffle = False)\n"
      ],
      "execution_count": 0,
      "outputs": [
        {
          "output_type": "stream",
          "text": [
            "Found 50 images belonging to 2 classes.\n"
          ],
          "name": "stdout"
        }
      ]
    },
    {
      "cell_type": "code",
      "metadata": {
        "id": "gebd2JESoxYX",
        "colab_type": "code",
        "colab": {}
      },
      "source": [
        "# Compile the model\n",
        "Vgg_19.compile(optimizer= 'Adam', loss = 'categorical_crossentropy', metrics= ['accuracy'])"
      ],
      "execution_count": 0,
      "outputs": []
    },
    {
      "cell_type": "code",
      "metadata": {
        "id": "tTwlLaF3o6vG",
        "colab_type": "code",
        "outputId": "0a9ae8ef-64f3-4478-984e-ab1a090447eb",
        "colab": {
          "base_uri": "https://localhost:8080/",
          "height": 34
        }
      },
      "source": [
        "print('total images to be trained ',train_generator.n)"
      ],
      "execution_count": 0,
      "outputs": [
        {
          "output_type": "stream",
          "text": [
            "total images to be trained  187\n"
          ],
          "name": "stdout"
        }
      ]
    },
    {
      "cell_type": "code",
      "metadata": {
        "id": "4y2Kt03So9jB",
        "colab_type": "code",
        "outputId": "c5036ed4-e04f-449d-813a-bd496b870fe3",
        "colab": {
          "base_uri": "https://localhost:8080/",
          "height": 34
        }
      },
      "source": [
        "print('batch size set', train_generator.batch_size)"
      ],
      "execution_count": 0,
      "outputs": [
        {
          "output_type": "stream",
          "text": [
            "batch size set 32\n"
          ],
          "name": "stdout"
        }
      ]
    },
    {
      "cell_type": "code",
      "metadata": {
        "id": "ULYOEF8XpCuY",
        "colab_type": "code",
        "outputId": "1f20e22b-2b6a-4dd4-9f83-6f0cc1495ee1",
        "colab": {
          "base_uri": "https://localhost:8080/",
          "height": 34
        }
      },
      "source": [
        "print('no of steps per epoch', train_generator.n//train_generator.batch_size)\n",
        "#print(val_generator.n//val_generator.batch_size)"
      ],
      "execution_count": 0,
      "outputs": [
        {
          "output_type": "stream",
          "text": [
            "no of steps per epoch 5\n"
          ],
          "name": "stdout"
        }
      ]
    },
    {
      "cell_type": "code",
      "metadata": {
        "id": "efDy9j_QpFYQ",
        "colab_type": "code",
        "outputId": "4cd9a1b4-def7-418c-a013-306676790f93",
        "colab": {
          "base_uri": "https://localhost:8080/",
          "height": 727
        }
      },
      "source": [
        "vgg19_fit_model = Vgg_19.fit_generator(train_generator, steps_per_epoch=6,epochs = 20,validation_data=val_generator,validation_steps=5)"
      ],
      "execution_count": 0,
      "outputs": [
        {
          "output_type": "stream",
          "text": [
            "Epoch 1/20\n",
            "6/6 [==============================] - 155s 26s/step - loss: 6.8586 - accuracy: 0.7861 - val_loss: 0.0000e+00 - val_accuracy: 0.6200\n",
            "Epoch 2/20\n",
            "6/6 [==============================] - 149s 25s/step - loss: 10.9378 - accuracy: 0.3529 - val_loss: 1.8856 - val_accuracy: 0.6200\n",
            "Epoch 3/20\n",
            "6/6 [==============================] - 153s 25s/step - loss: 3.0289 - accuracy: 0.6150 - val_loss: 0.2771 - val_accuracy: 0.7600\n",
            "Epoch 4/20\n",
            "6/6 [==============================] - 149s 25s/step - loss: 1.6872 - accuracy: 0.6524 - val_loss: 0.0043 - val_accuracy: 0.7600\n",
            "Epoch 5/20\n",
            "6/6 [==============================] - 153s 25s/step - loss: 2.5532 - accuracy: 0.6791 - val_loss: 6.8226e-04 - val_accuracy: 0.7800\n",
            "Epoch 6/20\n",
            "6/6 [==============================] - 149s 25s/step - loss: 1.9925 - accuracy: 0.5348 - val_loss: 1.4726 - val_accuracy: 0.7200\n",
            "Epoch 7/20\n",
            "6/6 [==============================] - 153s 25s/step - loss: 0.7565 - accuracy: 0.7807 - val_loss: 0.0062 - val_accuracy: 0.7600\n",
            "Epoch 8/20\n",
            "6/6 [==============================] - 150s 25s/step - loss: 0.5343 - accuracy: 0.8396 - val_loss: 0.8324 - val_accuracy: 0.7800\n",
            "Epoch 9/20\n",
            "6/6 [==============================] - 153s 26s/step - loss: 0.2630 - accuracy: 0.8930 - val_loss: 0.0287 - val_accuracy: 0.8600\n",
            "Epoch 10/20\n",
            "6/6 [==============================] - 149s 25s/step - loss: 0.1470 - accuracy: 0.9305 - val_loss: 0.0098 - val_accuracy: 0.8200\n",
            "Epoch 11/20\n",
            "6/6 [==============================] - 150s 25s/step - loss: 0.0264 - accuracy: 0.9947 - val_loss: 0.0520 - val_accuracy: 0.9400\n",
            "Epoch 12/20\n",
            "6/6 [==============================] - 150s 25s/step - loss: 0.0260 - accuracy: 0.9947 - val_loss: 0.0595 - val_accuracy: 0.9400\n",
            "Epoch 13/20\n",
            "6/6 [==============================] - 153s 25s/step - loss: 0.0154 - accuracy: 1.0000 - val_loss: 0.0374 - val_accuracy: 0.9200\n",
            "Epoch 14/20\n",
            "6/6 [==============================] - 149s 25s/step - loss: 0.0064 - accuracy: 1.0000 - val_loss: 0.0217 - val_accuracy: 0.9200\n",
            "Epoch 15/20\n",
            "6/6 [==============================] - 149s 25s/step - loss: 0.0043 - accuracy: 1.0000 - val_loss: 0.0146 - val_accuracy: 0.9200\n",
            "Epoch 16/20\n",
            "6/6 [==============================] - 149s 25s/step - loss: 0.0031 - accuracy: 1.0000 - val_loss: 0.0117 - val_accuracy: 0.9200\n",
            "Epoch 17/20\n",
            "6/6 [==============================] - 153s 25s/step - loss: 0.0022 - accuracy: 1.0000 - val_loss: 0.0104 - val_accuracy: 0.9200\n",
            "Epoch 18/20\n",
            "6/6 [==============================] - 149s 25s/step - loss: 0.0017 - accuracy: 1.0000 - val_loss: 0.0078 - val_accuracy: 0.9200\n",
            "Epoch 19/20\n",
            "6/6 [==============================] - 149s 25s/step - loss: 0.0013 - accuracy: 1.0000 - val_loss: 0.0072 - val_accuracy: 0.9200\n",
            "Epoch 20/20\n",
            "6/6 [==============================] - 149s 25s/step - loss: 8.9897e-04 - accuracy: 1.0000 - val_loss: 0.0053 - val_accuracy: 0.9200\n"
          ],
          "name": "stdout"
        }
      ]
    },
    {
      "cell_type": "code",
      "metadata": {
        "id": "LxQDgfUFpNWv",
        "colab_type": "code",
        "outputId": "10b6f563-dfb6-4e30-93af-2a0d4b29eb33",
        "colab": {
          "base_uri": "https://localhost:8080/",
          "height": 34
        }
      },
      "source": [
        "print(vgg19_fit_model.history.keys())"
      ],
      "execution_count": 0,
      "outputs": [
        {
          "output_type": "stream",
          "text": [
            "dict_keys(['val_loss', 'val_accuracy', 'loss', 'accuracy'])\n"
          ],
          "name": "stdout"
        }
      ]
    },
    {
      "cell_type": "code",
      "metadata": {
        "id": "jctnI5u32P3P",
        "colab_type": "code",
        "outputId": "cf55d8ed-ee54-4496-f0a5-9e690c6f15b0",
        "colab": {
          "base_uri": "https://localhost:8080/",
          "height": 264
        }
      },
      "source": [
        "plt.plot(vgg19_fit_model.history['loss'], label='train loss')\n",
        "plt.plot(vgg19_fit_model.history['val_loss'], label='val loss')\n",
        "plt.legend()\n",
        "plt.show()\n"
      ],
      "execution_count": 0,
      "outputs": [
        {
          "output_type": "display_data",
          "data": {
            "image/png": "[encoded data removed]",
            "text/plain": [
              "<Figure size 432x288 with 1 Axes>"
            ]
          },
          "metadata": {
            "tags": [],
            "needs_background": "light"
          }
        }
      ]
    },
    {
      "cell_type": "code",
      "metadata": {
        "id": "x8bybRfX2jFU",
        "colab_type": "code",
        "outputId": "bdd78b0b-83c2-4d5e-8a49-f6a650086582",
        "colab": {
          "base_uri": "https://localhost:8080/",
          "height": 264
        }
      },
      "source": [
        "plt.plot(vgg19_fit_model.history['accuracy'], label='train accuracy')\n",
        "plt.plot(vgg19_fit_model.history['val_accuracy'], label='val accuracy')\n",
        "plt.legend()\n",
        "plt.show()\n"
      ],
      "execution_count": 0,
      "outputs": [
        {
          "output_type": "display_data",
          "data": {
            "image/png": "[encoded data removed]",
            "text/plain": [
              "<Figure size 432x288 with 1 Axes>"
            ]
          },
          "metadata": {
            "tags": [],
            "needs_background": "light"
          }
        }
      ]
    },
    {
      "cell_type": "code",
      "metadata": {
        "id": "DILCkL_y2tW5",
        "colab_type": "code",
        "colab": {}
      },
      "source": [
        "Vgg_19.save('brain_tumour_classifier.h5')"
      ],
      "execution_count": 0,
      "outputs": []
    },
    {
      "cell_type": "code",
      "metadata": {
        "id": "KDio-iuU28RE",
        "colab_type": "code",
        "colab": {}
      },
      "source": [
        "from keras.preprocessing import image\n",
        "from keras.models import load_model"
      ],
      "execution_count": 0,
      "outputs": []
    },
    {
      "cell_type": "code",
      "metadata": {
        "id": "3ZqvQgms2-Z0",
        "colab_type": "code",
        "colab": {}
      },
      "source": [
        "Vgg_19 = load_model('brain_tumour_classifier.h5')"
      ],
      "execution_count": 0,
      "outputs": []
    },
    {
      "cell_type": "code",
      "metadata": {
        "id": "ZG0-cwfg3Ajh",
        "colab_type": "code",
        "outputId": "622348c3-d45e-4943-fe13-3aa01dcd8fd2",
        "colab": {
          "base_uri": "https://localhost:8080/",
          "height": 34
        }
      },
      "source": [
        "test_generator = test_datagen.flow_from_directory('TEST', target_size=(224,224), color_mode='rgb', batch_size=1, class_mode='categorical',shuffle = False)"
      ],
      "execution_count": 0,
      "outputs": [
        {
          "output_type": "stream",
          "text": [
            "Found 16 images belonging to 2 classes.\n"
          ],
          "name": "stdout"
        }
      ]
    },
    {
      "cell_type": "code",
      "metadata": {
        "id": "lv8ih0AS3DwE",
        "colab_type": "code",
        "outputId": "436b8c26-fd9b-44a1-e80f-a6d57f56f35c",
        "colab": {
          "base_uri": "https://localhost:8080/",
          "height": 34
        }
      },
      "source": [
        "result = Vgg_19.evaluate_generator(test_generator, steps=16)\n",
        "print(result)"
      ],
      "execution_count": 0,
      "outputs": [
        {
          "output_type": "stream",
          "text": [
            "[0.0, 0.8125]\n"
          ],
          "name": "stdout"
        }
      ]
    },
    {
      "cell_type": "code",
      "metadata": {
        "id": "wTRkkAqr3O3o",
        "colab_type": "code",
        "colab": {}
      },
      "source": [
        ""
      ],
      "execution_count": 0,
      "outputs": []
    },
    {
      "cell_type": "code",
      "metadata": {
        "id": "9OlRKaK_3zkj",
        "colab_type": "code",
        "colab": {}
      },
      "source": [
        ""
      ],
      "execution_count": 0,
      "outputs": []
    }
  ]
}