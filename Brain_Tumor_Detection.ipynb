{
  "nbformat": 4,
  "nbformat_minor": 0,
  "metadata": {
    "colab": {
      "name": "Brain Tumor  Detection",
      "provenance": [],
      "collapsed_sections": []
    },
    "kernelspec": {
      "name": "python3",
      "display_name": "Python 3"
    }
  },
  "cells": [
    {
      "cell_type": "code",
      "metadata": {
        "id": "CR-MWpyRz7pK",
        "colab_type": "code",
        "outputId": "62d5a23e-3f76-4925-a45e-aa15763f15be",
        "colab": {
          "base_uri": "https://localhost:8080/",
          "height": 357
        }
      },
      "source": [
        "!ls \"/content/drive/My Drive\""
      ],
      "execution_count": 0,
      "outputs": [
        {
          "output_type": "stream",
          "text": [
            "'ARMinstruction (1).gslides'\n",
            "'asphalt 8.gdoc'\n",
            " brain-mri-images-for-brain-tumor-detection.zip\n",
            " CamReadyBlockDiagram.gdoc\n",
            " CamReadyBlockDiagram.pdf\n",
            "'Colab Notebooks'\n",
            "'DBMS Project Review 1.gdoc'\n",
            "'ER-Diagram (1).xml'\n",
            "'Essay (1).gdoc'\n",
            " Essay.gdoc\n",
            "'General presentation.gslides'\n",
            "'Project proposal (1).gdoc'\n",
            "'Project proposal (2).gdoc'\n",
            "'Project proposal (3).gdoc'\n",
            "'Project proposal.gdoc'\n",
            "'P.Vamsi Krishna (AM.EN.U4CSE17152) version2.pdf'\n",
            "'SSR project proposal .docx'\n",
            "'STUDENT SOCIAL RESPONSIBILITY (SSR).pptm'\n",
            "'Untitled document (1).gdoc'\n",
            "'Untitled document.gdoc'\n"
          ],
          "name": "stdout"
        }
      ]
    },
    {
      "cell_type": "code",
      "metadata": {
        "id": "g0_w47-NBSfZ",
        "colab_type": "code",
        "colab": {}
      },
      "source": [
        "!unzip -q \"/content/drive/My Drive/brain-mri-images-for-brain-tumor-detection.zip\""
      ],
      "execution_count": 0,
      "outputs": []
    },
    {
      "cell_type": "code",
      "metadata": {
        "id": "1C_6YXoN3mR_",
        "colab_type": "code",
        "outputId": "d5f583ee-8d94-4e1a-ef2f-30142c885176",
        "colab": {
          "base_uri": "https://localhost:8080/",
          "height": 34
        }
      },
      "source": [
        "!pip install imutils"
      ],
      "execution_count": 0,
      "outputs": [
        {
          "output_type": "stream",
          "text": [
            "Requirement already satisfied: imutils in /usr/local/lib/python3.6/dist-packages (0.5.3)\n"
          ],
          "name": "stdout"
        }
      ]
    },
    {
      "cell_type": "code",
      "metadata": {
        "id": "cUUTGVye3mgc",
        "colab_type": "code",
        "colab": {}
      },
      "source": [
        "import numpy as np \n",
        "import cv2\n",
        "import os\n",
        "import shutil\n",
        "import itertools\n",
        "import imutils\n",
        "import matplotlib.pyplot as plt\n",
        "from sklearn.preprocessing import LabelBinarizer\n",
        "from sklearn.model_selection import train_test_split\n",
        "from sklearn.metrics import accuracy_score, confusion_matrix\n",
        "\n",
        "import plotly.graph_objs as go\n",
        "from plotly.offline import init_notebook_mode, iplot\n",
        "from plotly import tools\n",
        "\n",
        "from keras.preprocessing.image import ImageDataGenerator\n",
        "from keras.applications.vgg19 import VGG19, preprocess_input\n",
        "from keras import layers\n",
        "from keras.models import Model, Sequential\n",
        "from keras.optimizers import Adam, RMSprop"
      ],
      "execution_count": 0,
      "outputs": []
    },
    {
      "cell_type": "code",
      "metadata": {
        "id": "MtlOd3d33msj",
        "colab_type": "code",
        "colab": {}
      },
      "source": [
        "!mkdir TRAIN TEST VAL TRAIN/yes TRAIN/no TEST/yes TEST/no VAL/yes VAL/no"
      ],
      "execution_count": 0,
      "outputs": []
    },
    {
      "cell_type": "code",
      "metadata": {
        "id": "RBX3XpcQ12kK",
        "colab_type": "code",
        "colab": {}
      },
      "source": [
        "from os import listdir\n",
        "img_path ='brain_tumor_dataset/'\n",
        "# split the data by train/val/test\n",
        "for File in listdir(img_path):\n",
        "    \n",
        "        img_num = len(listdir(img_path + File))\n",
        "        for (n, File_name) in enumerate(listdir(img_path + File)):\n",
        "            img = img_path + File + '/' + File_name\n",
        "            if n < 5:\n",
        "                shutil.copy(img, 'TEST/' + File + '/' + File_name)\n",
        "            elif n < 0.8*img_num:\n",
        "                shutil.copy(img, 'TRAIN/'+ File + '/' + File_name)\n",
        "            else:\n",
        "                shutil.copy(img, 'VAL/'+ File + '/' + File_name)"
      ],
      "execution_count": 0,
      "outputs": []
    },
    {
      "cell_type": "code",
      "metadata": {
        "id": "7P9yNDLu9N2z",
        "colab_type": "code",
        "outputId": "07f91507-b0b8-4f94-f3e2-78562432c437",
        "colab": {
          "base_uri": "https://localhost:8080/",
          "height": 85
        }
      },
      "source": [
        "!pip install --user cython h5py"
      ],
      "execution_count": 0,
      "outputs": [
        {
          "output_type": "stream",
          "text": [
            "Requirement already satisfied: cython in /usr/local/lib/python3.6/dist-packages (0.29.16)\n",
            "Requirement already satisfied: h5py in /usr/local/lib/python3.6/dist-packages (2.10.0)\n",
            "Requirement already satisfied: six in /usr/local/lib/python3.6/dist-packages (from h5py) (1.12.0)\n",
            "Requirement already satisfied: numpy>=1.7 in /usr/local/lib/python3.6/dist-packages (from h5py) (1.18.2)\n"
          ],
          "name": "stdout"
        }
      ]
    },
    {
      "cell_type": "code",
      "metadata": {
        "id": "yP0-KWGsbQOc",
        "colab_type": "code",
        "outputId": "1045c7c1-d2f8-494c-d4d7-afbb8334a47d",
        "colab": {
          "base_uri": "https://localhost:8080/",
          "height": 292
        }
      },
      "source": [
        "!pip install --user git+https://github.com/Theano/Theano.git"
      ],
      "execution_count": 0,
      "outputs": [
        {
          "output_type": "stream",
          "text": [
            "Collecting git+https://github.com/Theano/Theano.git\n",
            "  Cloning https://github.com/Theano/Theano.git to /tmp/pip-req-build-x796glu5\n",
            "  Running command git clone -q https://github.com/Theano/Theano.git /tmp/pip-req-build-x796glu5\n",
            "Requirement already satisfied: numpy>=1.9.1 in /usr/local/lib/python3.6/dist-packages (from Theano==1.0.4+51.gf1e4ec47c) (1.18.2)\n",
            "Requirement already satisfied: scipy>=0.14 in /usr/local/lib/python3.6/dist-packages (from Theano==1.0.4+51.gf1e4ec47c) (1.4.1)\n",
            "Requirement already satisfied: six>=1.9.0 in /usr/local/lib/python3.6/dist-packages (from Theano==1.0.4+51.gf1e4ec47c) (1.12.0)\n",
            "Building wheels for collected packages: Theano\n",
            "  Building wheel for Theano (setup.py) ... \u001b[?25l\u001b[?25hdone\n",
            "  Created wheel for Theano: filename=Theano-1.0.4+51.gf1e4ec47c-cp36-none-any.whl size=2667983 sha256=1c292e3dd9e539f801da5af50a99c0c2074e28fdf56442b108e5fa9885b6cc76\n",
            "  Stored in directory: /tmp/pip-ephem-wheel-cache-8xgyomct/wheels/14/72/17/35fc1366380e8e05fc8ed5d44e24a2da28ef975aa4be6aaa17\n",
            "Successfully built Theano\n",
            "Installing collected packages: Theano\n",
            "\u001b[33m  WARNING: The scripts theano-cache and theano-nose are installed in '/root/.local/bin' which is not on PATH.\n",
            "  Consider adding this directory to PATH or, if you prefer to suppress this warning, use --no-warn-script-location.\u001b[0m\n",
            "Successfully installed Theano-1.0.4+51.gf1e4ec47c\n"
          ],
          "name": "stdout"
        }
      ]
    },
    {
      "cell_type": "code",
      "metadata": {
        "id": "IU1L-a60e_Nx",
        "colab_type": "code",
        "outputId": "37c9038b-7af7-45f5-9902-3d726d5364c6",
        "colab": {
          "base_uri": "https://localhost:8080/",
          "height": 411
        }
      },
      "source": [
        "!pip install --user git+https://github.com/fchollet/keras.git"
      ],
      "execution_count": 0,
      "outputs": [
        {
          "output_type": "stream",
          "text": [
            "Collecting git+https://github.com/fchollet/keras.git\n",
            "  Cloning https://github.com/fchollet/keras.git to /tmp/pip-req-build-wdgw1wsc\n",
            "  Running command git clone -q https://github.com/fchollet/keras.git /tmp/pip-req-build-wdgw1wsc\n",
            "Requirement already satisfied: numpy>=1.9.1 in /usr/local/lib/python3.6/dist-packages (from Keras==2.3.1) (1.18.2)\n",
            "Requirement already satisfied: scipy>=0.14 in /usr/local/lib/python3.6/dist-packages (from Keras==2.3.1) (1.4.1)\n",
            "Requirement already satisfied: six>=1.9.0 in /usr/local/lib/python3.6/dist-packages (from Keras==2.3.1) (1.12.0)\n",
            "Requirement already satisfied: pyyaml in /usr/local/lib/python3.6/dist-packages (from Keras==2.3.1) (3.13)\n",
            "Requirement already satisfied: h5py in /usr/local/lib/python3.6/dist-packages (from Keras==2.3.1) (2.10.0)\n",
            "Requirement already satisfied: keras_applications>=1.0.6 in /usr/local/lib/python3.6/dist-packages (from Keras==2.3.1) (1.0.8)\n",
            "Requirement already satisfied: keras_preprocessing>=1.0.5 in /usr/local/lib/python3.6/dist-packages (from Keras==2.3.1) (1.1.0)\n",
            "Building wheels for collected packages: Keras\n",
            "  Building wheel for Keras (setup.py) ... \u001b[?25l\u001b[?25hdone\n",
            "  Created wheel for Keras: filename=Keras-2.3.1-cp36-none-any.whl size=365124 sha256=b0830777a330dbf3eb83b8eb12aed9c6ac1a226a1233ec0543b637fc807c2266\n",
            "  Stored in directory: /tmp/pip-ephem-wheel-cache-xzvqqum7/wheels/9b/28/23/374425566fc615b7eeb7d748899ed3ce8d72851e4b5d22cc83\n",
            "Successfully built Keras\n",
            "Installing collected packages: Keras\n",
            "Successfully installed Keras-2.3.1\n"
          ],
          "name": "stdout"
        },
        {
          "output_type": "display_data",
          "data": {
            "application/vnd.colab-display-data+json": {
              "pip_warning": {
                "packages": [
                  "keras"
                ]
              }
            }
          },
          "metadata": {
            "tags": []
          }
        }
      ]
    },
    {
      "cell_type": "code",
      "metadata": {
        "id": "zPbmOo1LgnPM",
        "colab_type": "code",
        "outputId": "457dd9d2-a48f-4c50-9ed2-3f303f3825a4",
        "colab": {
          "base_uri": "https://localhost:8080/",
          "height": 51
        }
      },
      "source": [
        "import keras\n",
        "print(keras.__version__)"
      ],
      "execution_count": 0,
      "outputs": [
        {
          "output_type": "stream",
          "text": [
            "Using TensorFlow backend.\n"
          ],
          "name": "stderr"
        },
        {
          "output_type": "stream",
          "text": [
            "2.3.1\n"
          ],
          "name": "stdout"
        }
      ]
    },
    {
      "cell_type": "code",
      "metadata": {
        "id": "n2lnvdRej4bE",
        "colab_type": "code",
        "outputId": "24062683-0c1a-4827-a0b2-7201e9b4a50a",
        "colab": {
          "base_uri": "https://localhost:8080/",
          "height": 102
        }
      },
      "source": [
        "!git clone https://github.com/heuritech/convnets-keras.git"
      ],
      "execution_count": 0,
      "outputs": [
        {
          "output_type": "stream",
          "text": [
            "Cloning into 'convnets-keras'...\n",
            "remote: Enumerating objects: 247, done.\u001b[K\n",
            "remote: Total 247 (delta 0), reused 0 (delta 0), pack-reused 247\n",
            "Receiving objects: 100% (247/247), 3.59 MiB | 2.82 MiB/s, done.\n",
            "Resolving deltas: 100% (142/142), done.\n"
          ],
          "name": "stdout"
        }
      ]
    },
    {
      "cell_type": "code",
      "metadata": {
        "id": "CdzAY0jilaMa",
        "colab_type": "code",
        "outputId": "cc4e506e-d62f-4a73-ce28-ddcedcbaeb04",
        "colab": {
          "base_uri": "https://localhost:8080/",
          "height": 476
        }
      },
      "source": [
        "%cd convnets-keras\n",
        "!sudo python setup.py install"
      ],
      "execution_count": 0,
      "outputs": [
        {
          "output_type": "stream",
          "text": [
            "/content/convnets-keras\n",
            "running install\n",
            "running build\n",
            "running build_py\n",
            "creating build\n",
            "creating build/lib\n",
            "creating build/lib/convnetskeras\n",
            "copying convnetskeras/imagenet_tool.py -> build/lib/convnetskeras\n",
            "copying convnetskeras/__init__.py -> build/lib/convnetskeras\n",
            "copying convnetskeras/customlayers.py -> build/lib/convnetskeras\n",
            "copying convnetskeras/convnets.py -> build/lib/convnetskeras\n",
            "creating build/lib/convnetskeras/data\n",
            "copying convnetskeras/data/meta_clsloc.mat -> build/lib/convnetskeras/data\n",
            "running install_lib\n",
            "creating /usr/local/lib/python3.6/dist-packages/convnetskeras\n",
            "creating /usr/local/lib/python3.6/dist-packages/convnetskeras/data\n",
            "copying build/lib/convnetskeras/data/meta_clsloc.mat -> /usr/local/lib/python3.6/dist-packages/convnetskeras/data\n",
            "copying build/lib/convnetskeras/imagenet_tool.py -> /usr/local/lib/python3.6/dist-packages/convnetskeras\n",
            "copying build/lib/convnetskeras/__init__.py -> /usr/local/lib/python3.6/dist-packages/convnetskeras\n",
            "copying build/lib/convnetskeras/customlayers.py -> /usr/local/lib/python3.6/dist-packages/convnetskeras\n",
            "copying build/lib/convnetskeras/convnets.py -> /usr/local/lib/python3.6/dist-packages/convnetskeras\n",
            "byte-compiling /usr/local/lib/python3.6/dist-packages/convnetskeras/imagenet_tool.py to imagenet_tool.cpython-36.pyc\n",
            "byte-compiling /usr/local/lib/python3.6/dist-packages/convnetskeras/__init__.py to __init__.cpython-36.pyc\n",
            "byte-compiling /usr/local/lib/python3.6/dist-packages/convnetskeras/customlayers.py to customlayers.cpython-36.pyc\n",
            "byte-compiling /usr/local/lib/python3.6/dist-packages/convnetskeras/convnets.py to convnets.cpython-36.pyc\n",
            "running install_egg_info\n",
            "Writing /usr/local/lib/python3.6/dist-packages/convnetskeras-0.1.egg-info\n"
          ],
          "name": "stdout"
        }
      ]
    },
    {
      "cell_type": "code",
      "metadata": {
        "id": "HzS9aKyCmrPd",
        "colab_type": "code",
        "colab": {}
      },
      "source": [
        "img_size = [224,224]\n",
        "data_path = 'TRAIN/'"
      ],
      "execution_count": 0,
      "outputs": []
    },
    {
      "cell_type": "code",
      "metadata": {
        "id": "Ae64J3gUti71",
        "colab_type": "code",
        "outputId": "d2920bce-50bc-4769-b4fe-697a0c9c6d89",
        "colab": {
          "base_uri": "https://localhost:8080/",
          "height": 190
        }
      },
      "source": [
        "!pip install Merge\n"
      ],
      "execution_count": 0,
      "outputs": [
        {
          "output_type": "stream",
          "text": [
            "Collecting Merge\n",
            "  Downloading https://files.pythonhosted.org/packages/77/b7/c39602bd3d03a98ec86f5e84f1f2f07b169e3623e183041786a88c962165/merge-1.0.0.zip\n",
            "Building wheels for collected packages: Merge\n",
            "  Building wheel for Merge (setup.py) ... \u001b[?25l\u001b[?25hdone\n",
            "  Created wheel for Merge: filename=merge-1.0.0-cp36-none-any.whl size=1494 sha256=ff2844cc9bc42fede94d2106cc1d02661e0f4bdd5c0e3da60c784779eaddf3f7\n",
            "  Stored in directory: /root/.cache/pip/wheels/6d/c7/7d/efe551f409cdd4572ece7ae7b9f96dacccae332fe2b1d386b3\n",
            "Successfully built Merge\n",
            "Installing collected packages: Merge\n",
            "Successfully installed Merge-1.0.0\n"
          ],
          "name": "stdout"
        }
      ]
    },
    {
      "cell_type": "code",
      "metadata": {
        "id": "ftNj-hJVxlxL",
        "colab_type": "code",
        "colab": {}
      },
      "source": [
        "vgg_19_model = VGG19(input_shape= img_size+[3],weights='imagenet',include_top=False)"
      ],
      "execution_count": 0,
      "outputs": []
    },
    {
      "cell_type": "code",
      "metadata": {
        "id": "TsWbrKq8LSsK",
        "colab_type": "code",
        "outputId": "eb7c05f7-2027-4615-b78c-50d853f1d4b0",
        "colab": {
          "base_uri": "https://localhost:8080/",
          "height": 34
        }
      },
      "source": [
        "from keras.layers import GlobalMaxPooling2D\n",
        "x = vgg_19_model.output\n",
        "x"
      ],
      "execution_count": 0,
      "outputs": [
        {
          "output_type": "execute_result",
          "data": {
            "text/plain": [
              "<tf.Tensor 'block5_pool_1/MaxPool:0' shape=(None, 7, 7, 512) dtype=float32>"
            ]
          },
          "metadata": {
            "tags": []
          },
          "execution_count": 29
        }
      ]
    },
    {
      "cell_type": "code",
      "metadata": {
        "id": "xHbzssgUOlb9",
        "colab_type": "code",
        "colab": {}
      },
      "source": [
        "x = GlobalMaxPooling2D()(x)"
      ],
      "execution_count": 0,
      "outputs": []
    },
    {
      "cell_type": "code",
      "metadata": {
        "id": "0M558_Z3O1a2",
        "colab_type": "code",
        "colab": {}
      },
      "source": [
        "from keras.layers import Dense\n",
        "x = Dense(512,activation = 'relu')(x)\n",
        "x = Dense(512,activation = 'relu')(x)\n",
        "x = Dense(256, activation = 'relu')(x)"
      ],
      "execution_count": 0,
      "outputs": []
    },
    {
      "cell_type": "code",
      "metadata": {
        "id": "yQwCIoP7P2zi",
        "colab_type": "code",
        "colab": {}
      },
      "source": [
        "predictions = Dense(2,activation='softmax')(x)"
      ],
      "execution_count": 0,
      "outputs": []
    },
    {
      "cell_type": "code",
      "metadata": {
        "id": "_vuHV3DvQtM0",
        "colab_type": "code",
        "outputId": "91b9787f-803c-4ddc-c3bd-f3c60a0c2c95",
        "colab": {
          "base_uri": "https://localhost:8080/",
          "height": 1000
        }
      },
      "source": [
        "model = Model(inputs = vgg_19_model.input, outputs = predictions)\n",
        "model.summary()"
      ],
      "execution_count": 0,
      "outputs": [
        {
          "output_type": "stream",
          "text": [
            "Model: \"model_1\"\n",
            "_________________________________________________________________\n",
            "Layer (type)                 Output Shape              Param #   \n",
            "=================================================================\n",
            "input_2 (InputLayer)         (None, 224, 224, 3)       0         \n",
            "_________________________________________________________________\n",
            "block1_conv1 (Conv2D)        (None, 224, 224, 64)      1792      \n",
            "_________________________________________________________________\n",
            "block1_conv2 (Conv2D)        (None, 224, 224, 64)      36928     \n",
            "_________________________________________________________________\n",
            "block1_pool (MaxPooling2D)   (None, 112, 112, 64)      0         \n",
            "_________________________________________________________________\n",
            "block2_conv1 (Conv2D)        (None, 112, 112, 128)     73856     \n",
            "_________________________________________________________________\n",
            "block2_conv2 (Conv2D)        (None, 112, 112, 128)     147584    \n",
            "_________________________________________________________________\n",
            "block2_pool (MaxPooling2D)   (None, 56, 56, 128)       0         \n",
            "_________________________________________________________________\n",
            "block3_conv1 (Conv2D)        (None, 56, 56, 256)       295168    \n",
            "_________________________________________________________________\n",
            "block3_conv2 (Conv2D)        (None, 56, 56, 256)       590080    \n",
            "_________________________________________________________________\n",
            "block3_conv3 (Conv2D)        (None, 56, 56, 256)       590080    \n",
            "_________________________________________________________________\n",
            "block3_conv4 (Conv2D)        (None, 56, 56, 256)       590080    \n",
            "_________________________________________________________________\n",
            "block3_pool (MaxPooling2D)   (None, 28, 28, 256)       0         \n",
            "_________________________________________________________________\n",
            "block4_conv1 (Conv2D)        (None, 28, 28, 512)       1180160   \n",
            "_________________________________________________________________\n",
            "block4_conv2 (Conv2D)        (None, 28, 28, 512)       2359808   \n",
            "_________________________________________________________________\n",
            "block4_conv3 (Conv2D)        (None, 28, 28, 512)       2359808   \n",
            "_________________________________________________________________\n",
            "block4_conv4 (Conv2D)        (None, 28, 28, 512)       2359808   \n",
            "_________________________________________________________________\n",
            "block4_pool (MaxPooling2D)   (None, 14, 14, 512)       0         \n",
            "_________________________________________________________________\n",
            "block5_conv1 (Conv2D)        (None, 14, 14, 512)       2359808   \n",
            "_________________________________________________________________\n",
            "block5_conv2 (Conv2D)        (None, 14, 14, 512)       2359808   \n",
            "_________________________________________________________________\n",
            "block5_conv3 (Conv2D)        (None, 14, 14, 512)       2359808   \n",
            "_________________________________________________________________\n",
            "block5_conv4 (Conv2D)        (None, 14, 14, 512)       2359808   \n",
            "_________________________________________________________________\n",
            "block5_pool (MaxPooling2D)   (None, 7, 7, 512)         0         \n",
            "_________________________________________________________________\n",
            "global_max_pooling2d_7 (Glob (None, 512)               0         \n",
            "_________________________________________________________________\n",
            "dense_7 (Dense)              (None, 512)               262656    \n",
            "_________________________________________________________________\n",
            "dense_8 (Dense)              (None, 512)               262656    \n",
            "_________________________________________________________________\n",
            "dense_9 (Dense)              (None, 256)               131328    \n",
            "_________________________________________________________________\n",
            "dense_11 (Dense)             (None, 2)                 514       \n",
            "=================================================================\n",
            "Total params: 20,681,538\n",
            "Trainable params: 20,681,538\n",
            "Non-trainable params: 0\n",
            "_________________________________________________________________\n"
          ],
          "name": "stdout"
        }
      ]
    },
    {
      "cell_type": "code",
      "metadata": {
        "id": "N-X69ndtRBzP",
        "colab_type": "code",
        "colab": {}
      },
      "source": [
        "for layer in vgg_19_model.layers:\n",
        "   layer.trainable = False"
      ],
      "execution_count": 0,
      "outputs": []
    },
    {
      "cell_type": "code",
      "metadata": {
        "id": "MHO2v5gwRpyJ",
        "colab_type": "code",
        "colab": {}
      },
      "source": [
        "train_datagen = ImageDataGenerator(preprocessing_function=preprocess_input)\n"
      ],
      "execution_count": 0,
      "outputs": []
    },
    {
      "cell_type": "code",
      "metadata": {
        "id": "URPiM9ZeW6wP",
        "colab_type": "code",
        "outputId": "5cb045c1-950e-40ad-aef6-432bf0a4bd8f",
        "colab": {
          "base_uri": "https://localhost:8080/",
          "height": 34
        }
      },
      "source": [
        "train_generator = train_datagen.flow_from_directory('TRAIN', target_size=(224,224), color_mode='rgb', batch_size=32, class_mode='categorical',shuffle = False)"
      ],
      "execution_count": 0,
      "outputs": [
        {
          "output_type": "stream",
          "text": [
            "Found 193 images belonging to 2 classes.\n"
          ],
          "name": "stdout"
        }
      ]
    },
    {
      "cell_type": "code",
      "metadata": {
        "id": "Z-ofXvu-XgS6",
        "colab_type": "code",
        "outputId": "64d23b36-cc7a-4d5c-8c73-caeef5de1484",
        "colab": {
          "base_uri": "https://localhost:8080/",
          "height": 34
        }
      },
      "source": [
        "!pwd\n"
      ],
      "execution_count": 0,
      "outputs": [
        {
          "output_type": "stream",
          "text": [
            "/root\n"
          ],
          "name": "stdout"
        }
      ]
    },
    {
      "cell_type": "code",
      "metadata": {
        "id": "81I1mIw8XhVb",
        "colab_type": "code",
        "outputId": "af2fb015-4a1c-4c96-bbae-be78b6c494c8",
        "colab": {
          "base_uri": "https://localhost:8080/",
          "height": 34
        }
      },
      "source": [
        "%cd ../"
      ],
      "execution_count": 0,
      "outputs": [
        {
          "output_type": "stream",
          "text": [
            "/\n"
          ],
          "name": "stdout"
        }
      ]
    },
    {
      "cell_type": "code",
      "metadata": {
        "id": "fCvSXLAqbV5v",
        "colab_type": "code",
        "outputId": "9f9c2ebf-6b04-4a7c-a806-8209755831e5",
        "colab": {
          "base_uri": "https://localhost:8080/",
          "height": 34
        }
      },
      "source": [
        "%cd content"
      ],
      "execution_count": 0,
      "outputs": [
        {
          "output_type": "stream",
          "text": [
            "/content\n"
          ],
          "name": "stdout"
        }
      ]
    },
    {
      "cell_type": "code",
      "metadata": {
        "id": "Y8Cd-GT5bZ1w",
        "colab_type": "code",
        "colab": {}
      },
      "source": [
        "model.compile(optimizer= 'Adam', loss = 'categorical_crossentropy', metrics= ['accuracy'])"
      ],
      "execution_count": 0,
      "outputs": []
    },
    {
      "cell_type": "code",
      "metadata": {
        "id": "aV_wSHTmdM8k",
        "colab_type": "code",
        "outputId": "bd994b47-99ab-4fa1-844b-7a40e84c2d3f",
        "colab": {
          "base_uri": "https://localhost:8080/",
          "height": 34
        }
      },
      "source": [
        "print('total images to be trained ',train_generator.n)"
      ],
      "execution_count": 0,
      "outputs": [
        {
          "output_type": "stream",
          "text": [
            "total images to be trained  193\n"
          ],
          "name": "stdout"
        }
      ]
    },
    {
      "cell_type": "code",
      "metadata": {
        "id": "FTG2zqmRdnEC",
        "colab_type": "code",
        "outputId": "53df956b-3188-409c-dc1e-07f4d5b22694",
        "colab": {
          "base_uri": "https://localhost:8080/",
          "height": 34
        }
      },
      "source": [
        "print('batch size set', train_generator.batch_size)"
      ],
      "execution_count": 0,
      "outputs": [
        {
          "output_type": "stream",
          "text": [
            "batch size set 32\n"
          ],
          "name": "stdout"
        }
      ]
    },
    {
      "cell_type": "code",
      "metadata": {
        "id": "779AAqtlduQ2",
        "colab_type": "code",
        "outputId": "6ea5d778-4c26-471a-b252-8825cefc92d7",
        "colab": {
          "base_uri": "https://localhost:8080/",
          "height": 34
        }
      },
      "source": [
        "print('no of steps per epoch', train_generator.n//train_generator.batch_size)"
      ],
      "execution_count": 0,
      "outputs": [
        {
          "output_type": "stream",
          "text": [
            "no of steps per epoch 6\n"
          ],
          "name": "stdout"
        }
      ]
    },
    {
      "cell_type": "code",
      "metadata": {
        "id": "jKHpcw9ZeaRv",
        "colab_type": "code",
        "outputId": "38649526-86d1-4d0d-8deb-3242e26feb16",
        "colab": {
          "base_uri": "https://localhost:8080/",
          "height": 153
        }
      },
      "source": [
        "fit_model = model.fit_generator(train_generator, steps_per_epoch=6,epochs = 4)"
      ],
      "execution_count": 0,
      "outputs": [
        {
          "output_type": "stream",
          "text": [
            "Epoch 1/4\n",
            "6/6 [==============================] - 101s 17s/step - loss: 1.0178 - accuracy: 0.6832\n",
            "Epoch 2/4\n",
            "6/6 [==============================] - 101s 17s/step - loss: 0.4640 - accuracy: 0.8758\n",
            "Epoch 3/4\n",
            "6/6 [==============================] - 121s 20s/step - loss: 0.2953 - accuracy: 0.9010\n",
            "Epoch 4/4\n",
            "6/6 [==============================] - 102s 17s/step - loss: 0.1909 - accuracy: 0.9317\n"
          ],
          "name": "stdout"
        }
      ]
    },
    {
      "cell_type": "code",
      "metadata": {
        "id": "UFyprQ1YjefK",
        "colab_type": "code",
        "outputId": "da442dde-2734-4f62-c08c-17774f15661d",
        "colab": {
          "base_uri": "https://localhost:8080/",
          "height": 34
        }
      },
      "source": [
        "print(fit_model.history.keys())"
      ],
      "execution_count": 0,
      "outputs": [
        {
          "output_type": "stream",
          "text": [
            "dict_keys(['loss', 'accuracy'])\n"
          ],
          "name": "stdout"
        }
      ]
    },
    {
      "cell_type": "code",
      "metadata": {
        "id": "cv_Be1X-fCMe",
        "colab_type": "code",
        "outputId": "6b222099-e599-4421-86d9-8f44e7ad0eb9",
        "colab": {
          "base_uri": "https://localhost:8080/",
          "height": 265
        }
      },
      "source": [
        "plt.plot(fit_model.history['loss'], label='train loss')\n",
        "plt.plot(fit_model.history['accuracy'], label='train accuracy')\n",
        "plt.legend()\n",
        "plt.show()\n"
      ],
      "execution_count": 0,
      "outputs": [
        {
          "output_type": "display_data",
          "data": {
            "image/png": "[encoded data removed]",
            "text/plain": [
              "<Figure size 432x288 with 1 Axes>"
            ]
          },
          "metadata": {
            "tags": []
          }
        }
      ]
    },
    {
      "cell_type": "code",
      "metadata": {
        "id": "UvTuXXBHizdi",
        "colab_type": "code",
        "outputId": "a0694e9f-0157-413e-9a65-8b5b5d279659",
        "colab": {
          "base_uri": "https://localhost:8080/",
          "height": 34
        }
      },
      "source": [
        "plt.savefig('performance_of_model')"
      ],
      "execution_count": 0,
      "outputs": [
        {
          "output_type": "display_data",
          "data": {
            "text/plain": [
              "<Figure size 432x288 with 0 Axes>"
            ]
          },
          "metadata": {
            "tags": []
          }
        }
      ]
    },
    {
      "cell_type": "code",
      "metadata": {
        "id": "LgHl0-6xkGDC",
        "colab_type": "code",
        "colab": {}
      },
      "source": [
        "model.save('brain_tumour_classifier.h5')"
      ],
      "execution_count": 0,
      "outputs": []
    },
    {
      "cell_type": "code",
      "metadata": {
        "id": "dHORVAFrkW9t",
        "colab_type": "code",
        "colab": {}
      },
      "source": [
        "from keras.preprocessing import image\n",
        "from keras.models import load_model"
      ],
      "execution_count": 0,
      "outputs": []
    },
    {
      "cell_type": "code",
      "metadata": {
        "id": "l_BMdUcFmW5-",
        "colab_type": "code",
        "colab": {}
      },
      "source": [
        "model = load_model('brain_tumour_classifier.h5')"
      ],
      "execution_count": 0,
      "outputs": []
    },
    {
      "cell_type": "code",
      "metadata": {
        "id": "A4DgeCR_mh86",
        "colab_type": "code",
        "colab": {}
      },
      "source": [
        "test_image = image.load_img('TEST/yes/Y148.JPG',target_size=(224,224))\n",
        "tst = image.img_to_array(test_image)\n",
        "tst = np.expand_dims(tst,axis=0)"
      ],
      "execution_count": 0,
      "outputs": []
    },
    {
      "cell_type": "code",
      "metadata": {
        "id": "_q2zw27lnomm",
        "colab_type": "code",
        "colab": {}
      },
      "source": [
        "test_data = preprocess_input(tst)"
      ],
      "execution_count": 0,
      "outputs": []
    },
    {
      "cell_type": "code",
      "metadata": {
        "id": "0lJ3JAr_nxok",
        "colab_type": "code",
        "outputId": "c0244dab-3d1a-479e-b453-b1edaa2a2d8f",
        "colab": {
          "base_uri": "https://localhost:8080/",
          "height": 34
        }
      },
      "source": [
        "result = model.predict(test_data)\n",
        "print(result)"
      ],
      "execution_count": 0,
      "outputs": [
        {
          "output_type": "stream",
          "text": [
            "[[1.9631217e-11 1.0000000e+00]]\n"
          ],
          "name": "stdout"
        }
      ]
    },
    {
      "cell_type": "code",
      "metadata": {
        "id": "aGLfGFvCn86O",
        "colab_type": "code",
        "outputId": "59a2fee8-1e14-4db8-f3d3-54529a2b6f26",
        "colab": {
          "base_uri": "https://localhost:8080/",
          "height": 34
        }
      },
      "source": [
        "if result[0][0] == 1:\n",
        "  print('No brain tumor')\n",
        "elif result[0][1] == 1:\n",
        "  print('Brain tumor is present in ' + 'TEST/yes/Y148.JPG')"
      ],
      "execution_count": 0,
      "outputs": [
        {
          "output_type": "stream",
          "text": [
            "Brain tumor is present in TEST/yes/Y148.JPG\n"
          ],
          "name": "stdout"
        }
      ]
    },
    {
      "cell_type": "code",
      "metadata": {
        "id": "-Pf2W-QaoTKe",
        "colab_type": "code",
        "colab": {}
      },
      "source": [
        ""
      ],
      "execution_count": 0,
      "outputs": []
    }
  ]
}